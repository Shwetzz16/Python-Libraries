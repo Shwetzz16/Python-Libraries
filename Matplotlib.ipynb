{
 "cells": [
  {
   "cell_type": "markdown",
   "id": "6b4f8245",
   "metadata": {},
   "source": [
    "## Matplotlib"
   ]
  },
  {
   "cell_type": "markdown",
   "id": "f5fc78d4",
   "metadata": {},
   "source": [
    "#### Matplotlib is a plotting library for the Python programming language and its numerical mathematics extension NumPy. It provides an object-oriented API for embedding plots into applications using general-purpose GUI toolkits like Tkinter, wxPython, Qt, or GTK."
   ]
  },
  {
   "cell_type": "markdown",
   "id": "a09fabd8",
   "metadata": {},
   "source": [
    "  * Create publication quality plots.\n",
    "  *  Make interactive figures that can zoom, pan, update.\n",
    "  *  Customize visual style and layout.\n",
    "  *  Export to many file formats.\n",
    "  *  Embed in JupyterLab and Graphical User Interfaces.\n",
    "  *  Use a rich array of third-party packages built on Matplotlib"
   ]
  },
  {
   "cell_type": "code",
   "execution_count": 1,
   "id": "015ad34c",
   "metadata": {},
   "outputs": [
    {
     "name": "stdout",
     "output_type": "stream",
     "text": [
      "Requirement already satisfied: matplotlib in c:\\users\\shweta\\anaconda3\\lib\\site-packages (3.3.2)\n",
      "Requirement already satisfied: pillow>=6.2.0 in c:\\users\\shweta\\anaconda3\\lib\\site-packages (from matplotlib) (8.0.1)\n",
      "Requirement already satisfied: numpy>=1.15 in c:\\users\\shweta\\anaconda3\\lib\\site-packages (from matplotlib) (1.22.4)\n",
      "Requirement already satisfied: cycler>=0.10 in c:\\users\\shweta\\anaconda3\\lib\\site-packages (from matplotlib) (0.10.0)\n",
      "Requirement already satisfied: pyparsing!=2.0.4,!=2.1.2,!=2.1.6,>=2.0.3 in c:\\users\\shweta\\anaconda3\\lib\\site-packages (from matplotlib) (2.4.7)\n",
      "Requirement already satisfied: certifi>=2020.06.20 in c:\\users\\shweta\\anaconda3\\lib\\site-packages (from matplotlib) (2020.6.20)\n",
      "Requirement already satisfied: kiwisolver>=1.0.1 in c:\\users\\shweta\\anaconda3\\lib\\site-packages (from matplotlib) (1.3.0)\n",
      "Requirement already satisfied: python-dateutil>=2.1 in c:\\users\\shweta\\anaconda3\\lib\\site-packages (from matplotlib) (2.8.1)\n",
      "Requirement already satisfied: six in c:\\users\\shweta\\anaconda3\\lib\\site-packages (from cycler>=0.10->matplotlib) (1.15.0)\n"
     ]
    }
   ],
   "source": [
    "!pip install matplotlib"
   ]
  },
  {
   "cell_type": "code",
   "execution_count": 16,
   "id": "695ed3f8",
   "metadata": {},
   "outputs": [],
   "source": [
    "import matplotlib.pyplot as plt\n",
    "%matplotlib inline"
   ]
  },
  {
   "cell_type": "code",
   "execution_count": 3,
   "id": "0591b20f",
   "metadata": {},
   "outputs": [],
   "source": [
    "import numpy as np"
   ]
  },
  {
   "cell_type": "code",
   "execution_count": 7,
   "id": "d4892624",
   "metadata": {},
   "outputs": [],
   "source": [
    "x = np.arange(0,10)\n",
    "y = np.arange(11,21)"
   ]
  },
  {
   "cell_type": "code",
   "execution_count": 5,
   "id": "0fa8f76e",
   "metadata": {},
   "outputs": [
    {
     "data": {
      "text/plain": [
       "<matplotlib.collections.PathCollection at 0x1bb6eff0b80>"
      ]
     },
     "execution_count": 5,
     "metadata": {},
     "output_type": "execute_result"
    },
    {
     "data": {
      "image/png": "[encoded data removed]",
      "text/plain": [
       "<Figure size 432x288 with 1 Axes>"
      ]
     },
     "metadata": {
      "needs_background": "light"
     },
     "output_type": "display_data"
    }
   ],
   "source": [
    "plt.scatter(x,y)"
   ]
  },
  {
   "cell_type": "code",
   "execution_count": 36,
   "id": "94ddd785",
   "metadata": {},
   "outputs": [
    {
     "data": {
      "text/plain": [
       "<matplotlib.collections.PathCollection at 0x1d9c4c59430>"
      ]
     },
     "execution_count": 36,
     "metadata": {},
     "output_type": "execute_result"
    },
    {
     "data": {
      "image/png": "[encoded data removed]",
      "text/plain": [
       "<Figure size 432x288 with 1 Axes>"
      ]
     },
     "metadata": {
      "needs_background": "light"
     },
     "output_type": "display_data"
    }
   ],
   "source": [
    "plt.scatter(x,y,c ='g')"
   ]
  },
  {
   "cell_type": "code",
   "execution_count": 24,
   "id": "09dce0b0",
   "metadata": {},
   "outputs": [
    {
     "data": {
      "text/plain": [
       "Text(0.5, 1.0, 'Graph in 2D')"
      ]
     },
     "execution_count": 24,
     "metadata": {},
     "output_type": "execute_result"
    },
    {
     "data": {
      "image/png": "[encoded data removed]",
      "text/plain": [
       "<Figure size 432x288 with 1 Axes>"
      ]
     },
     "metadata": {
      "needs_background": "light"
     },
     "output_type": "display_data"
    }
   ],
   "source": [
    "plt.xlabel('X Axis')\n",
    "plt.ylabel('Y Axis')\n",
    "plt.title('Graph in 2D')"
   ]
  },
  {
   "cell_type": "code",
   "execution_count": 38,
   "id": "2193c1eb",
   "metadata": {},
   "outputs": [
    {
     "data": {
      "text/plain": [
       "<Figure size 432x288 with 0 Axes>"
      ]
     },
     "metadata": {},
     "output_type": "display_data"
    }
   ],
   "source": [
    "plt.savefig('Test.png')"
   ]
  },
  {
   "cell_type": "code",
   "execution_count": 37,
   "id": "1a55b3f4",
   "metadata": {},
   "outputs": [
    {
     "data": {
      "text/plain": [
       "<matplotlib.collections.PathCollection at 0x1d9c4c9f520>"
      ]
     },
     "execution_count": 37,
     "metadata": {},
     "output_type": "execute_result"
    },
    {
     "data": {
      "image/png": "[encoded data removed]",
      "text/plain": [
       "<Figure size 432x288 with 1 Axes>"
      ]
     },
     "metadata": {
      "needs_background": "light"
     },
     "output_type": "display_data"
    }
   ],
   "source": [
    "plt.xlabel('X Axis')\n",
    "plt.ylabel('Y Axis')\n",
    "plt.title('Graph in 2D')\n",
    "plt.scatter(x,y,c ='b')"
   ]
  },
  {
   "cell_type": "code",
   "execution_count": 26,
   "id": "5607a346",
   "metadata": {},
   "outputs": [],
   "source": [
    "y = x*x"
   ]
  },
  {
   "cell_type": "code",
   "execution_count": 27,
   "id": "f5ca76f2",
   "metadata": {},
   "outputs": [
    {
     "data": {
      "text/plain": [
       "[<matplotlib.lines.Line2D at 0x1bb715cb460>]"
      ]
     },
     "execution_count": 27,
     "metadata": {},
     "output_type": "execute_result"
    },
    {
     "data": {
      "image/png": "[encoded data removed]",
      "text/plain": [
       "<Figure size 432x288 with 1 Axes>"
      ]
     },
     "metadata": {
      "needs_background": "light"
     },
     "output_type": "display_data"
    }
   ],
   "source": [
    "plt.plot(x,y)"
   ]
  },
  {
   "cell_type": "code",
   "execution_count": 28,
   "id": "fdc48175",
   "metadata": {},
   "outputs": [
    {
     "data": {
      "text/plain": [
       "[<matplotlib.lines.Line2D at 0x1bb714b0dc0>]"
      ]
     },
     "execution_count": 28,
     "metadata": {},
     "output_type": "execute_result"
    },
    {
     "data": {
      "image/png": "[encoded data removed]",
      "text/plain": [
       "<Figure size 432x288 with 1 Axes>"
      ]
     },
     "metadata": {
      "needs_background": "light"
     },
     "output_type": "display_data"
    }
   ],
   "source": [
    "plt.plot(x,y,c='r')"
   ]
  },
  {
   "cell_type": "code",
   "execution_count": 30,
   "id": "e83724ea",
   "metadata": {},
   "outputs": [
    {
     "data": {
      "text/plain": [
       "[<matplotlib.lines.Line2D at 0x1bb71605be0>]"
      ]
     },
     "execution_count": 30,
     "metadata": {},
     "output_type": "execute_result"
    },
    {
     "data": {
      "image/png": "[encoded data removed]",
      "text/plain": [
       "<Figure size 432x288 with 1 Axes>"
      ]
     },
     "metadata": {
      "needs_background": "light"
     },
     "output_type": "display_data"
    }
   ],
   "source": [
    "plt.plot(x,y,'r*')"
   ]
  },
  {
   "cell_type": "code",
   "execution_count": 39,
   "id": "a85bc61e",
   "metadata": {},
   "outputs": [
    {
     "data": {
      "text/plain": [
       "[<matplotlib.lines.Line2D at 0x1bb715ebfa0>]"
      ]
     },
     "execution_count": 39,
     "metadata": {},
     "output_type": "execute_result"
    },
    {
     "data": {
      "image/png": "[encoded data removed]",
      "text/plain": [
       "<Figure size 432x288 with 1 Axes>"
      ]
     },
     "metadata": {
      "needs_background": "light"
     },
     "output_type": "display_data"
    }
   ],
   "source": [
    "plt.plot(x,y,'y+',markersize=12)"
   ]
  },
  {
   "cell_type": "code",
   "execution_count": 34,
   "id": "7d17e263",
   "metadata": {},
   "outputs": [
    {
     "data": {
      "text/plain": [
       "[<matplotlib.lines.Line2D at 0x1bb72889e80>]"
      ]
     },
     "execution_count": 34,
     "metadata": {},
     "output_type": "execute_result"
    },
    {
     "data": {
      "image/png": "[encoded data removed]",
      "text/plain": [
       "<Figure size 432x288 with 1 Axes>"
      ]
     },
     "metadata": {
      "needs_background": "light"
     },
     "output_type": "display_data"
    }
   ],
   "source": [
    "plt.plot(x,y,'bo',linestyle ='dashed')"
   ]
  },
  {
   "cell_type": "code",
   "execution_count": 37,
   "id": "61ee3a83",
   "metadata": {},
   "outputs": [
    {
     "data": {
      "text/plain": [
       "[<matplotlib.lines.Line2D at 0x1bb729a4760>]"
      ]
     },
     "execution_count": 37,
     "metadata": {},
     "output_type": "execute_result"
    },
    {
     "data": {
      "image/png": "[encoded data removed]",
      "text/plain": [
       "<Figure size 432x288 with 1 Axes>"
      ]
     },
     "metadata": {
      "needs_background": "light"
     },
     "output_type": "display_data"
    }
   ],
   "source": [
    "plt.plot(x,y,'bo',linestyle ='dashed', linewidth = 4)"
   ]
  },
  {
   "cell_type": "code",
   "execution_count": 40,
   "id": "bffa8c04",
   "metadata": {},
   "outputs": [
    {
     "data": {
      "text/plain": [
       "Text(0, 0.5, 'Y Axis')"
      ]
     },
     "execution_count": 40,
     "metadata": {},
     "output_type": "execute_result"
    },
    {
     "data": {
      "image/png": "[encoded data removed]",
      "text/plain": [
       "<Figure size 432x288 with 1 Axes>"
      ]
     },
     "metadata": {
      "needs_background": "light"
     },
     "output_type": "display_data"
    }
   ],
   "source": [
    "plt.plot(x,y,'bo',linestyle ='dashed', linewidth = 4,markersize=12)\n",
    "plt.xlabel('X Axis')\n",
    "plt.ylabel('Y Axis')"
   ]
  },
  {
   "cell_type": "markdown",
   "id": "8e79d125",
   "metadata": {},
   "source": [
    "### Subplots"
   ]
  },
  {
   "cell_type": "code",
   "execution_count": 5,
   "id": "88dac492",
   "metadata": {},
   "outputs": [],
   "source": [
    "import matplotlib.pyplot as plt\n",
    "%matplotlib inline"
   ]
  },
  {
   "cell_type": "code",
   "execution_count": 6,
   "id": "b5ef0096",
   "metadata": {},
   "outputs": [],
   "source": [
    "import numpy as np"
   ]
  },
  {
   "cell_type": "code",
   "execution_count": 8,
   "id": "286d8883",
   "metadata": {},
   "outputs": [],
   "source": [
    "x = np.arange(0,10)\n",
    "y = np.arange(11,21)"
   ]
  },
  {
   "cell_type": "code",
   "execution_count": 9,
   "id": "fd9d6baf",
   "metadata": {},
   "outputs": [],
   "source": [
    "y = x*x"
   ]
  },
  {
   "cell_type": "code",
   "execution_count": 10,
   "id": "cbc7ddcc",
   "metadata": {},
   "outputs": [
    {
     "data": {
      "text/plain": [
       "[<matplotlib.lines.Line2D at 0x1d9c123ad90>]"
      ]
     },
     "execution_count": 10,
     "metadata": {},
     "output_type": "execute_result"
    },
    {
     "data": {
      "image/png": "[encoded data removed]",
      "text/plain": [
       "<Figure size 432x288 with 1 Axes>"
      ]
     },
     "metadata": {
      "needs_background": "light"
     },
     "output_type": "display_data"
    }
   ],
   "source": [
    "plt.plot(x,y)"
   ]
  },
  {
   "cell_type": "code",
   "execution_count": 16,
   "id": "72031d43",
   "metadata": {},
   "outputs": [
    {
     "data": {
      "text/plain": [
       "[<matplotlib.lines.Line2D at 0x1d9c36ef640>]"
      ]
     },
     "execution_count": 16,
     "metadata": {},
     "output_type": "execute_result"
    },
    {
     "data": {
      "image/png": "[encoded data removed]",
      "text/plain": [
       "<Figure size 432x288 with 4 Axes>"
      ]
     },
     "metadata": {
      "needs_background": "light"
     },
     "output_type": "display_data"
    }
   ],
   "source": [
    "plt.subplot(2,2,1)\n",
    "plt.plot(x,y,'r--')\n",
    "plt.subplot(2,2,2)\n",
    "plt.plot(y,x,'g--')\n",
    "plt.subplot(2,2,3)\n",
    "plt.plot(y,x,'b--')\n",
    "plt.subplot(2,2,4)\n",
    "plt.plot(y,x,'y--')"
   ]
  },
  {
   "cell_type": "markdown",
   "id": "eacbd4cc",
   "metadata": {},
   "source": [
    "### Barplots"
   ]
  },
  {
   "cell_type": "code",
   "execution_count": 17,
   "id": "7eb18ed9",
   "metadata": {},
   "outputs": [],
   "source": [
    "X1=[2,3,4,5]\n",
    "Y1=[11,16,19,20]\n",
    "X2=[3,9,11,14]\n",
    "Y2=[6,15,7,9]"
   ]
  },
  {
   "cell_type": "code",
   "execution_count": 18,
   "id": "09486017",
   "metadata": {},
   "outputs": [
    {
     "data": {
      "text/plain": [
       "<BarContainer object of 4 artists>"
      ]
     },
     "execution_count": 18,
     "metadata": {},
     "output_type": "execute_result"
    },
    {
     "data": {
      "image/png": "[encoded data removed]",
      "text/plain": [
       "<Figure size 432x288 with 1 Axes>"
      ]
     },
     "metadata": {
      "needs_background": "light"
     },
     "output_type": "display_data"
    }
   ],
   "source": [
    "plt.bar(X1,Y1)"
   ]
  },
  {
   "cell_type": "code",
   "execution_count": 19,
   "id": "4b926536",
   "metadata": {},
   "outputs": [
    {
     "data": {
      "text/plain": [
       "<BarContainer object of 4 artists>"
      ]
     },
     "execution_count": 19,
     "metadata": {},
     "output_type": "execute_result"
    },
    {
     "data": {
      "image/png": "[encoded data removed]",
      "text/plain": [
       "<Figure size 432x288 with 1 Axes>"
      ]
     },
     "metadata": {
      "needs_background": "light"
     },
     "output_type": "display_data"
    }
   ],
   "source": [
    "plt.bar(X2,Y2)"
   ]
  },
  {
   "cell_type": "code",
   "execution_count": 20,
   "id": "845a205f",
   "metadata": {},
   "outputs": [
    {
     "data": {
      "text/plain": [
       "<BarContainer object of 4 artists>"
      ]
     },
     "execution_count": 20,
     "metadata": {},
     "output_type": "execute_result"
    },
    {
     "data": {
      "image/png": "[encoded data removed]",
      "text/plain": [
       "<Figure size 432x288 with 1 Axes>"
      ]
     },
     "metadata": {
      "needs_background": "light"
     },
     "output_type": "display_data"
    }
   ],
   "source": [
    "plt.bar(X1,Y1, color='g')\n",
    "plt.bar(X2,Y2)"
   ]
  },
  {
   "cell_type": "markdown",
   "id": "e0d161df",
   "metadata": {},
   "source": [
    "### Histogram"
   ]
  },
  {
   "cell_type": "code",
   "execution_count": 22,
   "id": "5d57ed6d",
   "metadata": {},
   "outputs": [
    {
     "data": {
      "text/plain": [
       "(array([3., 1., 2., 1., 1., 2., 2., 0., 1., 2.]),\n",
       " array([ 5. , 13.2, 21.4, 29.6, 37.8, 46. , 54.2, 62.4, 70.6, 78.8, 87. ]),\n",
       " <BarContainer object of 10 artists>)"
      ]
     },
     "execution_count": 22,
     "metadata": {},
     "output_type": "execute_result"
    },
    {
     "data": {
      "image/png": "[encoded data removed]",
      "text/plain": [
       "<Figure size 432x288 with 1 Axes>"
      ]
     },
     "metadata": {
      "needs_background": "light"
     },
     "output_type": "display_data"
    }
   ],
   "source": [
    "a=np.array([22,87,5,43,56,73,55,54,11,20,51,5,79,31,27])\n",
    "plt.hist(a)"
   ]
  },
  {
   "cell_type": "markdown",
   "id": "5dfca1ca",
   "metadata": {},
   "source": [
    "### Boxplot"
   ]
  },
  {
   "cell_type": "code",
   "execution_count": 25,
   "id": "b524a2af",
   "metadata": {},
   "outputs": [],
   "source": [
    "data=[np.random.normal(0,std,100) for std in range(1,4)]"
   ]
  },
  {
   "cell_type": "code",
   "execution_count": 26,
   "id": "d68d5d98",
   "metadata": {},
   "outputs": [
    {
     "data": {
      "text/plain": [
       "[array([-0.99885939, -0.33610505,  1.01387642,  1.08342666,  1.97548231,\n",
       "        -1.97025642, -0.37059961, -0.84645856,  0.05653322,  0.42942788,\n",
       "         0.08141379,  0.24249804,  0.43905107,  0.50363917,  1.0663063 ,\n",
       "         0.02295989, -0.87069698,  0.52757957,  0.34070904, -0.71995503,\n",
       "         0.60761403,  1.46879688,  0.45519042,  0.7269824 , -1.00940194,\n",
       "         2.81862279, -0.47710121, -0.7253054 , -0.1314702 ,  0.73815268,\n",
       "        -1.0927111 , -0.6177755 , -0.34258629, -0.23718225,  0.61025356,\n",
       "         1.88003979,  0.36040143,  0.83953234,  0.07170727,  0.37006105,\n",
       "        -0.28620073, -1.26949129, -0.28011795,  0.37955682,  0.36660766,\n",
       "        -1.32197039,  0.51722015,  0.83955628, -1.81324765,  2.56598588,\n",
       "         0.10880196,  1.80110515,  0.24233533, -1.40157413, -0.06288199,\n",
       "        -0.50622857, -0.89943126, -0.13533286,  1.03134234,  1.2461892 ,\n",
       "        -0.5994964 ,  0.40915306,  0.19657925,  1.25135584,  1.26862904,\n",
       "        -1.21842834, -0.11712981,  0.16363163,  1.11590023,  0.66956252,\n",
       "        -0.66302886, -0.21164423, -0.28985659, -1.97657994,  0.66281113,\n",
       "        -1.00234181, -0.81737816,  0.92106779,  0.85566074, -0.28800011,\n",
       "         1.17637944, -0.13289874,  0.03866407,  0.45313426, -0.43705184,\n",
       "        -0.04363832,  0.14650246, -0.07840588,  1.33684604,  0.48581408,\n",
       "         0.74381159,  0.05204592,  0.58866349, -0.81734968, -1.43491566,\n",
       "        -1.09468679, -0.03004322,  0.06319553,  0.47850035, -0.70769089]),\n",
       " array([-0.57875157, -2.5265066 , -0.39157633, -2.61120553,  2.39505855,\n",
       "         0.44659489, -3.00646635, -0.01941755, -0.42347583,  0.98810255,\n",
       "         2.82940575,  2.08067324,  4.36401602,  0.20879022,  2.57729429,\n",
       "        -2.95550711,  1.29114916,  0.58897549,  1.93722321, -1.09099686,\n",
       "         0.03812967, -1.02442317,  1.43690129, -0.49715246,  0.92287595,\n",
       "        -1.04950581,  0.96563102, -3.43932418,  2.70070358,  3.48618278,\n",
       "        -1.94142603, -2.57901208,  1.10061005,  0.17260078,  2.82350638,\n",
       "        -2.29991427,  1.16952275,  3.18694887,  1.54976214, -1.3658991 ,\n",
       "         3.21035294,  3.01143928, -3.12493294,  1.90534129, -0.06429387,\n",
       "         1.85906777,  0.30397918,  2.69312823,  2.68665295, -0.39331727,\n",
       "        -0.68769172, -0.33647062, -1.91738895,  1.28993161, -1.65916849,\n",
       "         1.66965169,  0.55634644,  0.94365326, -1.47952667, -0.69476763,\n",
       "        -0.99239919, -4.36882301,  3.80853157, -2.15492139, -0.13489887,\n",
       "         0.35680553, -0.88514095,  0.60916393,  1.20163871, -0.80792344,\n",
       "         5.59675754, -0.88613515, -3.02009422,  1.80742389,  2.34291172,\n",
       "        -0.86785768, -1.6175209 , -0.47630419,  0.77407587, -1.07320441,\n",
       "         2.65204805,  0.97852073, -1.53847617,  0.43679966, -2.15219601,\n",
       "        -1.10516012,  0.1241733 ,  4.5925923 ,  1.4243442 ,  2.77114397,\n",
       "         0.52021147,  3.84643692, -3.27764129,  0.69050376,  0.65642947,\n",
       "        -2.37187165, -2.3280233 ,  4.5077536 , -1.3894875 , -2.17581928]),\n",
       " array([-4.97542193, -0.27440024,  2.22450747,  7.55257322,  0.56122185,\n",
       "         2.93571837,  5.39466191, -0.9810811 ,  1.8368574 ,  1.76332359,\n",
       "        -0.26889842,  3.98086642,  0.35200011, -0.1700942 ,  1.75979864,\n",
       "         9.36635281, -2.20903016, -1.68897422, -3.63575776, -0.91152776,\n",
       "        -1.01321445, -4.01792255,  0.38857469, -1.1367221 ,  0.11563409,\n",
       "        -0.73404246, -6.09927042,  3.3185893 , -0.64332806, -2.28228252,\n",
       "         1.28577744, -2.4456545 ,  0.55758516, -3.12705111, -2.4230588 ,\n",
       "        -6.13652584,  4.48492221,  0.06699536, -1.13619922,  0.73747034,\n",
       "         5.53850442, -0.17540226,  1.72674941,  2.02047047,  0.03509562,\n",
       "         2.45999826,  2.78790891, -2.53949508,  3.00754399,  4.81709419,\n",
       "         3.65202907,  3.58927245, -2.24907149, -2.79431332, -4.34329602,\n",
       "         4.09026554,  3.6519051 , -4.15129026,  6.58911967,  3.17926371,\n",
       "        -3.80883326,  7.06710156,  1.08398228, -1.81358775, -5.13704503,\n",
       "         4.32704772, -3.200954  , -6.66504965, -1.37397974, -3.79143063,\n",
       "        -3.5716002 ,  4.32802123, -0.58986205,  3.69977408,  0.50933082,\n",
       "         2.05744776,  1.58633114, -0.28711847, -0.76319555, -2.74925117,\n",
       "         6.34843073, -1.0851277 , -0.69997844,  0.3980738 ,  7.32781498,\n",
       "         0.43573653, -4.16262257,  2.92370817, -2.46980731,  1.2857302 ,\n",
       "        -4.87906519,  2.02497199,  7.22795969,  1.35422329,  0.42197091,\n",
       "        -2.89406689,  5.50148182,  2.60172421, -0.66465536, -1.78424184])]"
      ]
     },
     "execution_count": 26,
     "metadata": {},
     "output_type": "execute_result"
    }
   ],
   "source": [
    "data"
   ]
  },
  {
   "cell_type": "code",
   "execution_count": 27,
   "id": "86254e5e",
   "metadata": {},
   "outputs": [
    {
     "data": {
      "text/plain": [
       "{'whiskers': [<matplotlib.lines.Line2D at 0x1d9c39a8c40>,\n",
       "  <matplotlib.lines.Line2D at 0x1d9c39a8fa0>,\n",
       "  <matplotlib.lines.Line2D at 0x1d9c39c34c0>,\n",
       "  <matplotlib.lines.Line2D at 0x1d9c39c3820>,\n",
       "  <matplotlib.lines.Line2D at 0x1d9c39ceca0>,\n",
       "  <matplotlib.lines.Line2D at 0x1d9c39d8040>],\n",
       " 'caps': [<matplotlib.lines.Line2D at 0x1d9c39b6370>,\n",
       "  <matplotlib.lines.Line2D at 0x1d9c39b66d0>,\n",
       "  <matplotlib.lines.Line2D at 0x1d9c39c3b80>,\n",
       "  <matplotlib.lines.Line2D at 0x1d9c39c3ee0>,\n",
       "  <matplotlib.lines.Line2D at 0x1d9c39d83a0>,\n",
       "  <matplotlib.lines.Line2D at 0x1d9c39d8700>],\n",
       " 'boxes': [<matplotlib.lines.Line2D at 0x1d9c39a88b0>,\n",
       "  <matplotlib.lines.Line2D at 0x1d9c39c3160>,\n",
       "  <matplotlib.lines.Line2D at 0x1d9c39ce940>],\n",
       " 'medians': [<matplotlib.lines.Line2D at 0x1d9c39b6a30>,\n",
       "  <matplotlib.lines.Line2D at 0x1d9c39ce280>,\n",
       "  <matplotlib.lines.Line2D at 0x1d9c39d8a60>],\n",
       " 'fliers': [<matplotlib.lines.Line2D at 0x1d9c39b6d90>,\n",
       "  <matplotlib.lines.Line2D at 0x1d9c39ce5e0>,\n",
       "  <matplotlib.lines.Line2D at 0x1d9c39d8dc0>],\n",
       " 'means': []}"
      ]
     },
     "execution_count": 27,
     "metadata": {},
     "output_type": "execute_result"
    },
    {
     "data": {
      "image/png": "[encoded data removed]",
      "text/plain": [
       "<Figure size 432x288 with 1 Axes>"
      ]
     },
     "metadata": {
      "needs_background": "light"
     },
     "output_type": "display_data"
    }
   ],
   "source": [
    "plt.boxplot(data)"
   ]
  },
  {
   "cell_type": "markdown",
   "id": "170226e3",
   "metadata": {},
   "source": [
    "### Piechart"
   ]
  },
  {
   "cell_type": "code",
   "execution_count": 32,
   "id": "0d7c9716",
   "metadata": {},
   "outputs": [],
   "source": [
    "#Data to plot\n",
    "labels='Python','C++','Ruby','Java'\n",
    "sizes=[215,130,245,210]\n",
    "colors=['gold','yellowgreen','lightcoral','lightskyblue']\n",
    "explode=(0.4,0,0,0) #explode 1st slice"
   ]
  },
  {
   "cell_type": "code",
   "execution_count": 33,
   "id": "7e733340",
   "metadata": {},
   "outputs": [
    {
     "data": {
      "image/png": "[encoded data removed]",
      "text/plain": [
       "<Figure size 432x288 with 1 Axes>"
      ]
     },
     "metadata": {},
     "output_type": "display_data"
    }
   ],
   "source": [
    "#plot\n",
    "plt.pie(sizes,explode=explode, labels=labels, colors=colors, autopct='%%f%%',shadow=False)\n",
    "plt.axis('equal')\n",
    "plt.show()"
   ]
  },
  {
   "cell_type": "code",
   "execution_count": null,
   "id": "853e5bf0",
   "metadata": {},
   "outputs": [],
   "source": []
  }
 ],
 "metadata": {
  "kernelspec": {
   "display_name": "Python 3",
   "language": "python",
   "name": "python3"
  },
  "language_info": {
   "codemirror_mode": {
    "name": "ipython",
    "version": 3
   },
   "file_extension": ".py",
   "mimetype": "text/x-python",
   "name": "python",
   "nbconvert_exporter": "python",
   "pygments_lexer": "ipython3",
   "version": "3.8.5"
  }
 },
 "nbformat": 4,
 "nbformat_minor": 5
}
